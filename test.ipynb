{
  "nbformat": 4,
  "nbformat_minor": 0,
  "metadata": {
    "colab": {
      "name": "Pro_test.ipynb",
      "provenance": [],
      "collapsed_sections": []
    },
    "kernelspec": {
      "name": "python3",
      "display_name": "Python 3"
    },
    "accelerator": "GPU"
  },
  "cells": [
    {
      "cell_type": "code",
      "metadata": {
        "id": "Wk_CPgEIT4bm",
        "colab_type": "code",
        "colab": {
          "base_uri": "https://localhost:8080/",
          "height": 140
        },
        "outputId": "4afe87bd-b74c-4db3-eccb-6b1ecd2d2a35"
      },
      "source": [
        "import numpy as np\n",
        "try:\n",
        "    import rawpy\n",
        "except ModuleNotFoundError:\n",
        "    !pip3 install rawpy\n",
        "    import rawpy"
      ],
      "execution_count": 1,
      "outputs": [
        {
          "output_type": "stream",
          "text": [
            "Collecting rawpy\n",
            "\u001b[?25l  Downloading https://files.pythonhosted.org/packages/da/04/997062d83766f5fbfa4dc0d20180c5085b55a74e69559e9cb6d4f1e9550e/rawpy-0.13.1-cp36-cp36m-manylinux1_x86_64.whl (682kB)\n",
            "\r\u001b[K     |▌                               | 10kB 22.5MB/s eta 0:00:01\r\u001b[K     |█                               | 20kB 27.1MB/s eta 0:00:01\r\u001b[K     |█▍                              | 30kB 31.8MB/s eta 0:00:01\r\u001b[K     |██                              | 40kB 36.0MB/s eta 0:00:01\r\u001b[K     |██▍                             | 51kB 38.7MB/s eta 0:00:01\r\u001b[K     |██▉                             | 61kB 41.8MB/s eta 0:00:01\r\u001b[K     |███▍                            | 71kB 41.8MB/s eta 0:00:01\r\u001b[K     |███▉                            | 81kB 41.3MB/s eta 0:00:01\r\u001b[K     |████▎                           | 92kB 43.3MB/s eta 0:00:01\r\u001b[K     |████▉                           | 102kB 44.3MB/s eta 0:00:01\r\u001b[K     |█████▎                          | 112kB 44.3MB/s eta 0:00:01\r\u001b[K     |█████▊                          | 122kB 44.3MB/s eta 0:00:01\r\u001b[K     |██████▎                         | 133kB 44.3MB/s eta 0:00:01\r\u001b[K     |██████▊                         | 143kB 44.3MB/s eta 0:00:01\r\u001b[K     |███████▏                        | 153kB 44.3MB/s eta 0:00:01\r\u001b[K     |███████▊                        | 163kB 44.3MB/s eta 0:00:01\r\u001b[K     |████████▏                       | 174kB 44.3MB/s eta 0:00:01\r\u001b[K     |████████▋                       | 184kB 44.3MB/s eta 0:00:01\r\u001b[K     |█████████▏                      | 194kB 44.3MB/s eta 0:00:01\r\u001b[K     |█████████▋                      | 204kB 44.3MB/s eta 0:00:01\r\u001b[K     |██████████                      | 215kB 44.3MB/s eta 0:00:01\r\u001b[K     |██████████▋                     | 225kB 44.3MB/s eta 0:00:01\r\u001b[K     |███████████                     | 235kB 44.3MB/s eta 0:00:01\r\u001b[K     |███████████▌                    | 245kB 44.3MB/s eta 0:00:01\r\u001b[K     |████████████                    | 256kB 44.3MB/s eta 0:00:01\r\u001b[K     |████████████▌                   | 266kB 44.3MB/s eta 0:00:01\r\u001b[K     |█████████████                   | 276kB 44.3MB/s eta 0:00:01\r\u001b[K     |█████████████▍                  | 286kB 44.3MB/s eta 0:00:01\r\u001b[K     |██████████████                  | 296kB 44.3MB/s eta 0:00:01\r\u001b[K     |██████████████▍                 | 307kB 44.3MB/s eta 0:00:01\r\u001b[K     |██████████████▉                 | 317kB 44.3MB/s eta 0:00:01\r\u001b[K     |███████████████▍                | 327kB 44.3MB/s eta 0:00:01\r\u001b[K     |███████████████▉                | 337kB 44.3MB/s eta 0:00:01\r\u001b[K     |████████████████▎               | 348kB 44.3MB/s eta 0:00:01\r\u001b[K     |████████████████▉               | 358kB 44.3MB/s eta 0:00:01\r\u001b[K     |█████████████████▎              | 368kB 44.3MB/s eta 0:00:01\r\u001b[K     |█████████████████▊              | 378kB 44.3MB/s eta 0:00:01\r\u001b[K     |██████████████████▎             | 389kB 44.3MB/s eta 0:00:01\r\u001b[K     |██████████████████▊             | 399kB 44.3MB/s eta 0:00:01\r\u001b[K     |███████████████████▏            | 409kB 44.3MB/s eta 0:00:01\r\u001b[K     |███████████████████▊            | 419kB 44.3MB/s eta 0:00:01\r\u001b[K     |████████████████████▏           | 430kB 44.3MB/s eta 0:00:01\r\u001b[K     |████████████████████▋           | 440kB 44.3MB/s eta 0:00:01\r\u001b[K     |█████████████████████▏          | 450kB 44.3MB/s eta 0:00:01\r\u001b[K     |█████████████████████▋          | 460kB 44.3MB/s eta 0:00:01\r\u001b[K     |██████████████████████          | 471kB 44.3MB/s eta 0:00:01\r\u001b[K     |██████████████████████▋         | 481kB 44.3MB/s eta 0:00:01\r\u001b[K     |███████████████████████         | 491kB 44.3MB/s eta 0:00:01\r\u001b[K     |███████████████████████▌        | 501kB 44.3MB/s eta 0:00:01\r\u001b[K     |████████████████████████        | 512kB 44.3MB/s eta 0:00:01\r\u001b[K     |████████████████████████▌       | 522kB 44.3MB/s eta 0:00:01\r\u001b[K     |█████████████████████████       | 532kB 44.3MB/s eta 0:00:01\r\u001b[K     |█████████████████████████▍      | 542kB 44.3MB/s eta 0:00:01\r\u001b[K     |██████████████████████████      | 552kB 44.3MB/s eta 0:00:01\r\u001b[K     |██████████████████████████▍     | 563kB 44.3MB/s eta 0:00:01\r\u001b[K     |██████████████████████████▉     | 573kB 44.3MB/s eta 0:00:01\r\u001b[K     |███████████████████████████▍    | 583kB 44.3MB/s eta 0:00:01\r\u001b[K     |███████████████████████████▉    | 593kB 44.3MB/s eta 0:00:01\r\u001b[K     |████████████████████████████▎   | 604kB 44.3MB/s eta 0:00:01\r\u001b[K     |████████████████████████████▉   | 614kB 44.3MB/s eta 0:00:01\r\u001b[K     |█████████████████████████████▎  | 624kB 44.3MB/s eta 0:00:01\r\u001b[K     |█████████████████████████████▊  | 634kB 44.3MB/s eta 0:00:01\r\u001b[K     |██████████████████████████████▎ | 645kB 44.3MB/s eta 0:00:01\r\u001b[K     |██████████████████████████████▊ | 655kB 44.3MB/s eta 0:00:01\r\u001b[K     |███████████████████████████████▏| 665kB 44.3MB/s eta 0:00:01\r\u001b[K     |███████████████████████████████▊| 675kB 44.3MB/s eta 0:00:01\r\u001b[K     |████████████████████████████████| 686kB 44.3MB/s \n",
            "\u001b[?25hRequirement already satisfied: numpy in /usr/local/lib/python3.6/dist-packages (from rawpy) (1.17.4)\n",
            "Installing collected packages: rawpy\n",
            "Successfully installed rawpy-0.13.1\n"
          ],
          "name": "stdout"
        }
      ]
    },
    {
      "cell_type": "code",
      "metadata": {
        "id": "YfR9WaVREgZL",
        "colab_type": "code",
        "colab": {}
      },
      "source": [
        "import torch\n",
        "import torch.nn.functional as F\n",
        "import torch.nn as nn\n",
        "import torch.optim as optim"
      ],
      "execution_count": 0,
      "outputs": []
    },
    {
      "cell_type": "code",
      "metadata": {
        "id": "cWYK_Uj0X1rz",
        "colab_type": "code",
        "colab": {}
      },
      "source": [
        "input_dir = '/content/drive/My Drive/ImageDataset/Sony/Sony/short/'\n",
        "gt_dir = '/content/drive/My Drive/ImageDataset/Sony/Sony/long/'\n",
        "checkpoint_dir = '/content/drive/My Drive/CheckPoint2/'\n",
        "result_dir = '/content/drive/My Drive/Results2/'"
      ],
      "execution_count": 0,
      "outputs": []
    },
    {
      "cell_type": "code",
      "metadata": {
        "id": "ZBv9bDYfeRM4",
        "colab_type": "code",
        "colab": {}
      },
      "source": [
        "import glob\n",
        "import os"
      ],
      "execution_count": 0,
      "outputs": []
    },
    {
      "cell_type": "code",
      "metadata": {
        "id": "0fOrVQTmeU7_",
        "colab_type": "code",
        "colab": {}
      },
      "source": [
        "test_fns = glob.glob(gt_dir + \"1*.ARW\")\n",
        "test_ids = [int(os.path.basename(test_fn)[0:5]) for test_fn in test_fns]"
      ],
      "execution_count": 0,
      "outputs": []
    },
    {
      "cell_type": "code",
      "metadata": {
        "id": "voj7z-Xaeuks",
        "colab_type": "code",
        "colab": {}
      },
      "source": [
        "ps = 512\n",
        "save_freq = 50"
      ],
      "execution_count": 0,
      "outputs": []
    },
    {
      "cell_type": "code",
      "metadata": {
        "id": "e5Ds90wDez-t",
        "colab_type": "code",
        "colab": {}
      },
      "source": [
        "DEBUG = 0\n",
        "if DEBUG:\n",
        "    save_freq = 2\n",
        "    test_ids = test_ids[0:5]"
      ],
      "execution_count": 0,
      "outputs": []
    },
    {
      "cell_type": "code",
      "metadata": {
        "id": "TWJsx6qVk5rW",
        "colab_type": "code",
        "colab": {}
      },
      "source": [
        "def double_conv(in_channels, out_channels):\n",
        "    return nn.Sequential(\n",
        "        nn.Conv2d(in_channels=in_channels, out_channels=out_channels, kernel_size=3, padding=1),\n",
        "        nn.LeakyReLU(inplace=True),\n",
        "        nn.BatchNorm2d(out_channels),\n",
        "        nn.Conv2d(out_channels, out_channels, 3, padding=1),\n",
        "        nn.LeakyReLU(inplace=True),\n",
        "        nn.BatchNorm2d(out_channels)\n",
        "    )"
      ],
      "execution_count": 0,
      "outputs": []
    },
    {
      "cell_type": "code",
      "metadata": {
        "id": "OW8jHWWu1Tsk",
        "colab_type": "code",
        "colab": {}
      },
      "source": [
        "def expansive_block(in_channels, mid_channels, out_channels):\n",
        "    return nn.Sequential(\n",
        "        nn.Conv2d(kernel_size=3, in_channels=in_channels, out_channels=mid_channels, padding=1),\n",
        "        nn.LeakyReLU(inplace=True),\n",
        "        nn.BatchNorm2d(mid_channels),\n",
        "        nn.Conv2d(kernel_size=3, in_channels=mid_channels, out_channels=mid_channels, padding=1),\n",
        "        nn.LeakyReLU(inplace=True),\n",
        "        nn.BatchNorm2d(mid_channels),\n",
        "        nn.ConvTranspose2d(in_channels=mid_channels, out_channels=out_channels, kernel_size=3, stride=2, padding=1, output_padding=1)\n",
        "    )"
      ],
      "execution_count": 0,
      "outputs": []
    },
    {
      "cell_type": "code",
      "metadata": {
        "id": "l_RYhZSW28wC",
        "colab_type": "code",
        "colab": {}
      },
      "source": [
        "def final_block(in_channels, mid_channels, out_channels, kernel_size=3):\n",
        "    return nn.Sequential(\n",
        "            nn.Conv2d(kernel_size=kernel_size, in_channels=in_channels, out_channels=mid_channels, padding=1),\n",
        "            nn.LeakyReLU(inplace=True),\n",
        "            nn.BatchNorm2d(mid_channels),\n",
        "            nn.Conv2d(kernel_size=kernel_size, in_channels=mid_channels, out_channels=mid_channels, padding=1),\n",
        "            nn.LeakyReLU(inplace=True),\n",
        "            nn.BatchNorm2d(mid_channels),\n",
        "            nn.Conv2d(kernel_size=1, in_channels=mid_channels, out_channels=out_channels, padding=0),\n",
        "            )"
      ],
      "execution_count": 0,
      "outputs": []
    },
    {
      "cell_type": "code",
      "metadata": {
        "id": "4n-1wzWj-ekL",
        "colab_type": "code",
        "colab": {}
      },
      "source": [
        "class DepthToSpace(nn.Module):\n",
        "\n",
        "    def __init__(self, block_size):\n",
        "        super().__init__()\n",
        "        self.bs = block_size\n",
        "\n",
        "    def forward(self, x):\n",
        "        N, C, H, W = x.size()\n",
        "        x = x.view(N, self.bs, self.bs, C // (self.bs ** 2), H, W)  # (N, bs, bs, C//bs^2, H, W)\n",
        "        x = x.permute(0, 3, 4, 1, 5, 2).contiguous()  # (N, C//bs^2, H, bs, W, bs)\n",
        "        x = x.view(N, C // (self.bs ** 2), H * self.bs, W * self.bs)  # (N, C//bs^2, H * bs, W * bs)\n",
        "        # print(\"In DS shape \"+str(x.shape))\n",
        "        return x"
      ],
      "execution_count": 0,
      "outputs": []
    },
    {
      "cell_type": "code",
      "metadata": {
        "colab_type": "code",
        "id": "IR5m12gH_Xu7",
        "colab": {}
      },
      "source": [
        "def pack_raw(raw):\n",
        "    #packing bayer sensor image to 4 channels\n",
        "    im = raw.raw_image_visible.astype(np.float32)\n",
        "    im = np.maximum(im - 512, 0)/(16383 - 512) #subtracting the black level\n",
        "    # print(im.shape)\n",
        "    im = np.expand_dims(im, axis=0)\n",
        "    img_shape = im.shape\n",
        "    # print(img_shape)\n",
        "    H = img_shape[1]\n",
        "    W = img_shape[2]\n",
        "    # The \"channels\" channel might be needed to be moved ahead(in that case axis = 0)\n",
        "    out = np.concatenate((im[:, 0:H:2, 0:W:2],\n",
        "                          im[:, 0:H:2, 1:W:2],\n",
        "                          im[:,1:H:2, 1:W:2],\n",
        "                          im[:, 1:H:2, 0:W:2],\n",
        "                          ), axis=0)\n",
        "    return out"
      ],
      "execution_count": 0,
      "outputs": []
    },
    {
      "cell_type": "code",
      "metadata": {
        "colab_type": "code",
        "id": "o5_tuOECr8_5",
        "colab": {}
      },
      "source": [
        "class UNet(nn.Module):\n",
        "    def __init__(self, n_out_channels):\n",
        "        super(UNet, self).__init__()\n",
        "        self.dconv_down1 = double_conv(4, 32)\n",
        "        self.dconv_down2 = double_conv(32, 64)\n",
        "        self.dconv_down3 = double_conv(64, 128)\n",
        "        self.dconv_down4 = double_conv(128, 256)\n",
        "        self.dconv_down5 = double_conv(256, 512)\n",
        "        self.maxpool = nn.MaxPool2d(2)\n",
        "        self.conv2d_t = nn.ConvTranspose2d(in_channels=512, out_channels=256, kernel_size=3, stride=2, padding=1, output_padding=1)\n",
        "        self.dconv_up1 = expansive_block(in_channels = 512, mid_channels = 256, out_channels = 128)\n",
        "        self.dconv_up2 = expansive_block(in_channels = 256, mid_channels = 128, out_channels = 64)\n",
        "        self.dconv_up3 = expansive_block(in_channels = 128, mid_channels = 64, out_channels = 32)\n",
        "        self.final_layer = final_block(in_channels = 64, mid_channels = 32, out_channels = n_out_channels)\n",
        "\n",
        "    def forward(self, x):\n",
        "        conv1 = self.dconv_down1(x)\n",
        "        x = self.maxpool(conv1)\n",
        "        # print(\"Con1= \"+str(conv1.shape))\n",
        "        conv2 = self.dconv_down2(x)\n",
        "        x = self.maxpool(conv2)\n",
        "        # print(\"Con2= \"+str(conv2.shape))\n",
        "        conv3 = self.dconv_down3(x)\n",
        "        x = self.maxpool(conv3)\n",
        "        # print(\"Con3 = \"+ str(conv3.shape))\n",
        "        conv4 = self.dconv_down4(x)\n",
        "        x = self.maxpool(conv4)\n",
        "        # print(\"Con4= \"+str(conv4.shape))\n",
        "        conv5 = self.dconv_down5(x)\n",
        "        # print(\"Con5= \"+str(conv5.shape))\n",
        "        # First upsampling\n",
        "        x = self.conv2d_t(conv5)\n",
        "        # print(\"First upcon+conv4 = \"+str(x.shape))\n",
        "        #concatenation and up_conv(Includes 2 conv+up_conv)\n",
        "       \n",
        "        x = torch.cat([x, conv4], dim = 1)\n",
        "        #256+256 channels as ip\n",
        "        x = self.dconv_up1(x)\n",
        "        # print(\"Second upcon+conv3 = \"+str(x.shape))\n",
        "        #has 128 channels op\n",
        "        x = torch.cat([x, conv3], dim = 1)\n",
        "        #128+128 channels as ip\n",
        "        x = self.dconv_up2(x)\n",
        "        # has 64 channels op\n",
        "        # print(\"third upcon+conv2 = \"+str(x.shape))\n",
        "        x = torch.cat([x, conv2], dim = 1)\n",
        "        #64+64 channels as ip\n",
        "        x = self.dconv_up3(x)\n",
        "        # has 32 channels op\n",
        "        # print(\"fourth upcon+conv1 = \"+str(x.shape))\n",
        "        x = torch.cat([x, conv1], dim = 1)\n",
        "        # has 32+32 channels\n",
        "        x = self.final_layer(x)\n",
        "        # print(\"pre final shape = \", str(x.shape))\n",
        "        x = DepthToSpace(2)(x)\n",
        "        # print(\"X shape = \"+str(x.shape))\n",
        "        return x"
      ],
      "execution_count": 0,
      "outputs": []
    },
    {
      "cell_type": "code",
      "metadata": {
        "id": "hA42jMAvE1f6",
        "colab_type": "code",
        "colab": {}
      },
      "source": [
        "dirs = [checkpoint_dir+str(d) for d in os.listdir(checkpoint_dir)]\n",
        "dirs  = sorted(dirs, reverse=True)\n",
        "# dirs = sorted(dirs, key=lambda x: os.path.getctime(x), reverse=True)[:1]"
      ],
      "execution_count": 0,
      "outputs": []
    },
    {
      "cell_type": "code",
      "metadata": {
        "id": "IxwqlAhVM-pS",
        "colab_type": "code",
        "colab": {}
      },
      "source": [
        "from torchsummary import summary"
      ],
      "execution_count": 0,
      "outputs": []
    },
    {
      "cell_type": "code",
      "metadata": {
        "id": "J6sRmlCVNJW2",
        "colab_type": "code",
        "colab": {}
      },
      "source": [
        "net = UNet(12)"
      ],
      "execution_count": 0,
      "outputs": []
    },
    {
      "cell_type": "code",
      "metadata": {
        "id": "NEcBm2TcNlxJ",
        "colab_type": "code",
        "colab": {}
      },
      "source": [
        "net = net.cuda()"
      ],
      "execution_count": 0,
      "outputs": []
    },
    {
      "cell_type": "code",
      "metadata": {
        "id": "9zpTc8o7NGrS",
        "colab_type": "code",
        "colab": {
          "base_uri": "https://localhost:8080/",
          "height": 1000
        },
        "outputId": "bed738b5-9dc5-4f02-f705-ed042ae83ac5"
      },
      "source": [
        "summary(net, (4, 512, 512))"
      ],
      "execution_count": 14,
      "outputs": [
        {
          "output_type": "stream",
          "text": [
            "----------------------------------------------------------------\n",
            "        Layer (type)               Output Shape         Param #\n",
            "================================================================\n",
            "            Conv2d-1         [-1, 32, 512, 512]           1,184\n",
            "         LeakyReLU-2         [-1, 32, 512, 512]               0\n",
            "       BatchNorm2d-3         [-1, 32, 512, 512]              64\n",
            "            Conv2d-4         [-1, 32, 512, 512]           9,248\n",
            "         LeakyReLU-5         [-1, 32, 512, 512]               0\n",
            "       BatchNorm2d-6         [-1, 32, 512, 512]              64\n",
            "         MaxPool2d-7         [-1, 32, 256, 256]               0\n",
            "            Conv2d-8         [-1, 64, 256, 256]          18,496\n",
            "         LeakyReLU-9         [-1, 64, 256, 256]               0\n",
            "      BatchNorm2d-10         [-1, 64, 256, 256]             128\n",
            "           Conv2d-11         [-1, 64, 256, 256]          36,928\n",
            "        LeakyReLU-12         [-1, 64, 256, 256]               0\n",
            "      BatchNorm2d-13         [-1, 64, 256, 256]             128\n",
            "        MaxPool2d-14         [-1, 64, 128, 128]               0\n",
            "           Conv2d-15        [-1, 128, 128, 128]          73,856\n",
            "        LeakyReLU-16        [-1, 128, 128, 128]               0\n",
            "      BatchNorm2d-17        [-1, 128, 128, 128]             256\n",
            "           Conv2d-18        [-1, 128, 128, 128]         147,584\n",
            "        LeakyReLU-19        [-1, 128, 128, 128]               0\n",
            "      BatchNorm2d-20        [-1, 128, 128, 128]             256\n",
            "        MaxPool2d-21          [-1, 128, 64, 64]               0\n",
            "           Conv2d-22          [-1, 256, 64, 64]         295,168\n",
            "        LeakyReLU-23          [-1, 256, 64, 64]               0\n",
            "      BatchNorm2d-24          [-1, 256, 64, 64]             512\n",
            "           Conv2d-25          [-1, 256, 64, 64]         590,080\n",
            "        LeakyReLU-26          [-1, 256, 64, 64]               0\n",
            "      BatchNorm2d-27          [-1, 256, 64, 64]             512\n",
            "        MaxPool2d-28          [-1, 256, 32, 32]               0\n",
            "           Conv2d-29          [-1, 512, 32, 32]       1,180,160\n",
            "        LeakyReLU-30          [-1, 512, 32, 32]               0\n",
            "      BatchNorm2d-31          [-1, 512, 32, 32]           1,024\n",
            "           Conv2d-32          [-1, 512, 32, 32]       2,359,808\n",
            "        LeakyReLU-33          [-1, 512, 32, 32]               0\n",
            "      BatchNorm2d-34          [-1, 512, 32, 32]           1,024\n",
            "  ConvTranspose2d-35          [-1, 256, 64, 64]       1,179,904\n",
            "           Conv2d-36          [-1, 256, 64, 64]       1,179,904\n",
            "        LeakyReLU-37          [-1, 256, 64, 64]               0\n",
            "      BatchNorm2d-38          [-1, 256, 64, 64]             512\n",
            "           Conv2d-39          [-1, 256, 64, 64]         590,080\n",
            "        LeakyReLU-40          [-1, 256, 64, 64]               0\n",
            "      BatchNorm2d-41          [-1, 256, 64, 64]             512\n",
            "  ConvTranspose2d-42        [-1, 128, 128, 128]         295,040\n",
            "           Conv2d-43        [-1, 128, 128, 128]         295,040\n",
            "        LeakyReLU-44        [-1, 128, 128, 128]               0\n",
            "      BatchNorm2d-45        [-1, 128, 128, 128]             256\n",
            "           Conv2d-46        [-1, 128, 128, 128]         147,584\n",
            "        LeakyReLU-47        [-1, 128, 128, 128]               0\n",
            "      BatchNorm2d-48        [-1, 128, 128, 128]             256\n",
            "  ConvTranspose2d-49         [-1, 64, 256, 256]          73,792\n",
            "           Conv2d-50         [-1, 64, 256, 256]          73,792\n",
            "        LeakyReLU-51         [-1, 64, 256, 256]               0\n",
            "      BatchNorm2d-52         [-1, 64, 256, 256]             128\n",
            "           Conv2d-53         [-1, 64, 256, 256]          36,928\n",
            "        LeakyReLU-54         [-1, 64, 256, 256]               0\n",
            "      BatchNorm2d-55         [-1, 64, 256, 256]             128\n",
            "  ConvTranspose2d-56         [-1, 32, 512, 512]          18,464\n",
            "           Conv2d-57         [-1, 32, 512, 512]          18,464\n",
            "        LeakyReLU-58         [-1, 32, 512, 512]               0\n",
            "      BatchNorm2d-59         [-1, 32, 512, 512]              64\n",
            "           Conv2d-60         [-1, 32, 512, 512]           9,248\n",
            "        LeakyReLU-61         [-1, 32, 512, 512]               0\n",
            "      BatchNorm2d-62         [-1, 32, 512, 512]              64\n",
            "           Conv2d-63         [-1, 12, 512, 512]             396\n",
            "================================================================\n",
            "Total params: 8,637,036\n",
            "Trainable params: 8,637,036\n",
            "Non-trainable params: 0\n",
            "----------------------------------------------------------------\n",
            "Input size (MB): 4.00\n",
            "Forward/backward pass size (MB): 1638.00\n",
            "Params size (MB): 32.95\n",
            "Estimated Total Size (MB): 1674.95\n",
            "----------------------------------------------------------------\n"
          ],
          "name": "stdout"
        }
      ]
    },
    {
      "cell_type": "code",
      "metadata": {
        "id": "o0XBIxUnFHiP",
        "colab_type": "code",
        "colab": {}
      },
      "source": [
        "epoch = int(dirs[0][-15:-11])"
      ],
      "execution_count": 0,
      "outputs": []
    },
    {
      "cell_type": "code",
      "metadata": {
        "id": "8nCGlnTqSEXk",
        "colab_type": "code",
        "outputId": "55662415-3e7e-4216-e750-5089ff1cf8f4",
        "colab": {
          "base_uri": "https://localhost:8080/",
          "height": 34
        }
      },
      "source": [
        "epoch"
      ],
      "execution_count": 31,
      "outputs": [
        {
          "output_type": "execute_result",
          "data": {
            "text/plain": [
              "337"
            ]
          },
          "metadata": {
            "tags": []
          },
          "execution_count": 31
        }
      ]
    },
    {
      "cell_type": "code",
      "metadata": {
        "id": "sm9JzZ73n5TY",
        "colab_type": "code",
        "colab": {}
      },
      "source": [
        "if not os.path.isdir(result_dir+'final/'):\n",
        "    os.makedirs(result_dir + 'final/')"
      ],
      "execution_count": 0,
      "outputs": []
    },
    {
      "cell_type": "code",
      "metadata": {
        "colab_type": "code",
        "id": "zRZ040Rj3ihc",
        "colab": {}
      },
      "source": [
        "dirs = [checkpoint_dir+str(d) for d in os.listdir(checkpoint_dir)]\n",
        "dirs  = sorted(dirs, reverse=True)\n",
        "# dirs = sorted(dirs, key=lambda x: os.path.getctime(x), reverse=True)[:1]"
      ],
      "execution_count": 0,
      "outputs": []
    },
    {
      "cell_type": "code",
      "metadata": {
        "id": "NiY-X-F-bOET",
        "colab_type": "code",
        "outputId": "3c0c3460-b193-45f5-94e0-bc2893ff2016",
        "colab": {
          "base_uri": "https://localhost:8080/",
          "height": 1000
        }
      },
      "source": [
        "dirs"
      ],
      "execution_count": 34,
      "outputs": [
        {
          "output_type": "execute_result",
          "data": {
            "text/plain": [
              "['/content/drive/My Drive/CheckPoint2/0337-model.ckpt',\n",
              " '/content/drive/My Drive/CheckPoint2/0336-model.ckpt',\n",
              " '/content/drive/My Drive/CheckPoint2/0335-model.ckpt',\n",
              " '/content/drive/My Drive/CheckPoint2/0334-model.ckpt',\n",
              " '/content/drive/My Drive/CheckPoint2/0333-model.ckpt',\n",
              " '/content/drive/My Drive/CheckPoint2/0332-model.ckpt',\n",
              " '/content/drive/My Drive/CheckPoint2/0331-model.ckpt',\n",
              " '/content/drive/My Drive/CheckPoint2/0330-model.ckpt',\n",
              " '/content/drive/My Drive/CheckPoint2/0329-model.ckpt',\n",
              " '/content/drive/My Drive/CheckPoint2/0328-model.ckpt',\n",
              " '/content/drive/My Drive/CheckPoint2/0327-model.ckpt',\n",
              " '/content/drive/My Drive/CheckPoint2/0326-model.ckpt',\n",
              " '/content/drive/My Drive/CheckPoint2/0325-model.ckpt',\n",
              " '/content/drive/My Drive/CheckPoint2/0324-model.ckpt',\n",
              " '/content/drive/My Drive/CheckPoint2/0323-model.ckpt',\n",
              " '/content/drive/My Drive/CheckPoint2/0322-model.ckpt',\n",
              " '/content/drive/My Drive/CheckPoint2/0321-model.ckpt',\n",
              " '/content/drive/My Drive/CheckPoint2/0320-model.ckpt',\n",
              " '/content/drive/My Drive/CheckPoint2/0319-model.ckpt',\n",
              " '/content/drive/My Drive/CheckPoint2/0318-model.ckpt',\n",
              " '/content/drive/My Drive/CheckPoint2/0317-model.ckpt',\n",
              " '/content/drive/My Drive/CheckPoint2/0316-model.ckpt',\n",
              " '/content/drive/My Drive/CheckPoint2/0315-model.ckpt',\n",
              " '/content/drive/My Drive/CheckPoint2/0314-model.ckpt',\n",
              " '/content/drive/My Drive/CheckPoint2/0313-model.ckpt',\n",
              " '/content/drive/My Drive/CheckPoint2/0312-model.ckpt',\n",
              " '/content/drive/My Drive/CheckPoint2/0311-model.ckpt',\n",
              " '/content/drive/My Drive/CheckPoint2/0310-model.ckpt',\n",
              " '/content/drive/My Drive/CheckPoint2/0309-model.ckpt',\n",
              " '/content/drive/My Drive/CheckPoint2/0308-model.ckpt',\n",
              " '/content/drive/My Drive/CheckPoint2/0307-model.ckpt',\n",
              " '/content/drive/My Drive/CheckPoint2/0306-model.ckpt',\n",
              " '/content/drive/My Drive/CheckPoint2/0305-model.ckpt',\n",
              " '/content/drive/My Drive/CheckPoint2/0304-model.ckpt',\n",
              " '/content/drive/My Drive/CheckPoint2/0303-model.ckpt',\n",
              " '/content/drive/My Drive/CheckPoint2/0302-model.ckpt',\n",
              " '/content/drive/My Drive/CheckPoint2/0301-model.ckpt',\n",
              " '/content/drive/My Drive/CheckPoint2/0300-model.ckpt',\n",
              " '/content/drive/My Drive/CheckPoint2/0299-model.ckpt',\n",
              " '/content/drive/My Drive/CheckPoint2/0298-model.ckpt',\n",
              " '/content/drive/My Drive/CheckPoint2/0297-model.ckpt',\n",
              " '/content/drive/My Drive/CheckPoint2/0296-model.ckpt',\n",
              " '/content/drive/My Drive/CheckPoint2/0295-model.ckpt',\n",
              " '/content/drive/My Drive/CheckPoint2/0294-model.ckpt',\n",
              " '/content/drive/My Drive/CheckPoint2/0293-model.ckpt',\n",
              " '/content/drive/My Drive/CheckPoint2/0292-model.ckpt',\n",
              " '/content/drive/My Drive/CheckPoint2/0291-model.ckpt',\n",
              " '/content/drive/My Drive/CheckPoint2/0290-model.ckpt',\n",
              " '/content/drive/My Drive/CheckPoint2/0289-model.ckpt',\n",
              " '/content/drive/My Drive/CheckPoint2/0288-model.ckpt',\n",
              " '/content/drive/My Drive/CheckPoint2/0287-model.ckpt',\n",
              " '/content/drive/My Drive/CheckPoint2/0286-model.ckpt',\n",
              " '/content/drive/My Drive/CheckPoint2/0285-model.ckpt',\n",
              " '/content/drive/My Drive/CheckPoint2/0284-model.ckpt',\n",
              " '/content/drive/My Drive/CheckPoint2/0283-model.ckpt',\n",
              " '/content/drive/My Drive/CheckPoint2/0282-model.ckpt',\n",
              " '/content/drive/My Drive/CheckPoint2/0281-model.ckpt',\n",
              " '/content/drive/My Drive/CheckPoint2/0280-model.ckpt',\n",
              " '/content/drive/My Drive/CheckPoint2/0279-model.ckpt',\n",
              " '/content/drive/My Drive/CheckPoint2/0278-model.ckpt',\n",
              " '/content/drive/My Drive/CheckPoint2/0277-model.ckpt',\n",
              " '/content/drive/My Drive/CheckPoint2/0276-model.ckpt',\n",
              " '/content/drive/My Drive/CheckPoint2/0275-model.ckpt',\n",
              " '/content/drive/My Drive/CheckPoint2/0274-model.ckpt',\n",
              " '/content/drive/My Drive/CheckPoint2/0273-model.ckpt',\n",
              " '/content/drive/My Drive/CheckPoint2/0272-model.ckpt',\n",
              " '/content/drive/My Drive/CheckPoint2/0271-model.ckpt',\n",
              " '/content/drive/My Drive/CheckPoint2/0270-model.ckpt',\n",
              " '/content/drive/My Drive/CheckPoint2/0269-model.ckpt',\n",
              " '/content/drive/My Drive/CheckPoint2/0268-model.ckpt',\n",
              " '/content/drive/My Drive/CheckPoint2/0267-model.ckpt',\n",
              " '/content/drive/My Drive/CheckPoint2/0266-model.ckpt',\n",
              " '/content/drive/My Drive/CheckPoint2/0265-model.ckpt',\n",
              " '/content/drive/My Drive/CheckPoint2/0264-model.ckpt',\n",
              " '/content/drive/My Drive/CheckPoint2/0263-model.ckpt',\n",
              " '/content/drive/My Drive/CheckPoint2/0262-model.ckpt',\n",
              " '/content/drive/My Drive/CheckPoint2/0261-model.ckpt',\n",
              " '/content/drive/My Drive/CheckPoint2/0260-model.ckpt',\n",
              " '/content/drive/My Drive/CheckPoint2/0259-model.ckpt',\n",
              " '/content/drive/My Drive/CheckPoint2/0258-model.ckpt',\n",
              " '/content/drive/My Drive/CheckPoint2/0257-model.ckpt',\n",
              " '/content/drive/My Drive/CheckPoint2/0256-model.ckpt',\n",
              " '/content/drive/My Drive/CheckPoint2/0255-model.ckpt',\n",
              " '/content/drive/My Drive/CheckPoint2/0254-model.ckpt',\n",
              " '/content/drive/My Drive/CheckPoint2/0253-model.ckpt',\n",
              " '/content/drive/My Drive/CheckPoint2/0252-model.ckpt',\n",
              " '/content/drive/My Drive/CheckPoint2/0251-model.ckpt',\n",
              " '/content/drive/My Drive/CheckPoint2/0250-model.ckpt',\n",
              " '/content/drive/My Drive/CheckPoint2/0249-model.ckpt',\n",
              " '/content/drive/My Drive/CheckPoint2/0248-model.ckpt',\n",
              " '/content/drive/My Drive/CheckPoint2/0247-model.ckpt',\n",
              " '/content/drive/My Drive/CheckPoint2/0246-model.ckpt',\n",
              " '/content/drive/My Drive/CheckPoint2/0245-model.ckpt',\n",
              " '/content/drive/My Drive/CheckPoint2/0244-model.ckpt',\n",
              " '/content/drive/My Drive/CheckPoint2/0243-model.ckpt',\n",
              " '/content/drive/My Drive/CheckPoint2/0242-model.ckpt',\n",
              " '/content/drive/My Drive/CheckPoint2/0241-model.ckpt',\n",
              " '/content/drive/My Drive/CheckPoint2/0240-model.ckpt',\n",
              " '/content/drive/My Drive/CheckPoint2/0239-model.ckpt',\n",
              " '/content/drive/My Drive/CheckPoint2/0238-model.ckpt',\n",
              " '/content/drive/My Drive/CheckPoint2/0237-model.ckpt',\n",
              " '/content/drive/My Drive/CheckPoint2/0236-model.ckpt',\n",
              " '/content/drive/My Drive/CheckPoint2/0235-model.ckpt',\n",
              " '/content/drive/My Drive/CheckPoint2/0234-model.ckpt',\n",
              " '/content/drive/My Drive/CheckPoint2/0233-model.ckpt',\n",
              " '/content/drive/My Drive/CheckPoint2/0232-model.ckpt',\n",
              " '/content/drive/My Drive/CheckPoint2/0231-model.ckpt',\n",
              " '/content/drive/My Drive/CheckPoint2/0230-model.ckpt',\n",
              " '/content/drive/My Drive/CheckPoint2/0229-model.ckpt',\n",
              " '/content/drive/My Drive/CheckPoint2/0228-model.ckpt',\n",
              " '/content/drive/My Drive/CheckPoint2/0227-model.ckpt',\n",
              " '/content/drive/My Drive/CheckPoint2/0226-model.ckpt',\n",
              " '/content/drive/My Drive/CheckPoint2/0225-model.ckpt',\n",
              " '/content/drive/My Drive/CheckPoint2/0224-model.ckpt',\n",
              " '/content/drive/My Drive/CheckPoint2/0223-model.ckpt',\n",
              " '/content/drive/My Drive/CheckPoint2/0222-model.ckpt',\n",
              " '/content/drive/My Drive/CheckPoint2/0221-model.ckpt',\n",
              " '/content/drive/My Drive/CheckPoint2/0220-model.ckpt',\n",
              " '/content/drive/My Drive/CheckPoint2/0219-model.ckpt',\n",
              " '/content/drive/My Drive/CheckPoint2/0218-model.ckpt',\n",
              " '/content/drive/My Drive/CheckPoint2/0217-model.ckpt',\n",
              " '/content/drive/My Drive/CheckPoint2/0216-model.ckpt',\n",
              " '/content/drive/My Drive/CheckPoint2/0215-model.ckpt',\n",
              " '/content/drive/My Drive/CheckPoint2/0214-model.ckpt',\n",
              " '/content/drive/My Drive/CheckPoint2/0213-model.ckpt',\n",
              " '/content/drive/My Drive/CheckPoint2/0212-model.ckpt',\n",
              " '/content/drive/My Drive/CheckPoint2/0211-model.ckpt',\n",
              " '/content/drive/My Drive/CheckPoint2/0210-model.ckpt',\n",
              " '/content/drive/My Drive/CheckPoint2/0209-model.ckpt',\n",
              " '/content/drive/My Drive/CheckPoint2/0208-model.ckpt',\n",
              " '/content/drive/My Drive/CheckPoint2/0207-model.ckpt',\n",
              " '/content/drive/My Drive/CheckPoint2/0206-model.ckpt',\n",
              " '/content/drive/My Drive/CheckPoint2/0205-model.ckpt',\n",
              " '/content/drive/My Drive/CheckPoint2/0204-model.ckpt',\n",
              " '/content/drive/My Drive/CheckPoint2/0203-model.ckpt',\n",
              " '/content/drive/My Drive/CheckPoint2/0202-model.ckpt',\n",
              " '/content/drive/My Drive/CheckPoint2/0201-model.ckpt',\n",
              " '/content/drive/My Drive/CheckPoint2/0200-model.ckpt',\n",
              " '/content/drive/My Drive/CheckPoint2/0199-model.ckpt',\n",
              " '/content/drive/My Drive/CheckPoint2/0198-model.ckpt',\n",
              " '/content/drive/My Drive/CheckPoint2/0197-model.ckpt',\n",
              " '/content/drive/My Drive/CheckPoint2/0196-model.ckpt',\n",
              " '/content/drive/My Drive/CheckPoint2/0195-model.ckpt',\n",
              " '/content/drive/My Drive/CheckPoint2/0194-model.ckpt',\n",
              " '/content/drive/My Drive/CheckPoint2/0193-model.ckpt',\n",
              " '/content/drive/My Drive/CheckPoint2/0192-model.ckpt',\n",
              " '/content/drive/My Drive/CheckPoint2/0191-model.ckpt',\n",
              " '/content/drive/My Drive/CheckPoint2/0190-model.ckpt',\n",
              " '/content/drive/My Drive/CheckPoint2/0189-model.ckpt',\n",
              " '/content/drive/My Drive/CheckPoint2/0188-model.ckpt',\n",
              " '/content/drive/My Drive/CheckPoint2/0187-model.ckpt',\n",
              " '/content/drive/My Drive/CheckPoint2/0186-model.ckpt',\n",
              " '/content/drive/My Drive/CheckPoint2/0185-model.ckpt',\n",
              " '/content/drive/My Drive/CheckPoint2/0184-model.ckpt',\n",
              " '/content/drive/My Drive/CheckPoint2/0183-model.ckpt',\n",
              " '/content/drive/My Drive/CheckPoint2/0182-model.ckpt',\n",
              " '/content/drive/My Drive/CheckPoint2/0181-model.ckpt',\n",
              " '/content/drive/My Drive/CheckPoint2/0180-model.ckpt',\n",
              " '/content/drive/My Drive/CheckPoint2/0179-model.ckpt',\n",
              " '/content/drive/My Drive/CheckPoint2/0178-model.ckpt',\n",
              " '/content/drive/My Drive/CheckPoint2/0177-model.ckpt',\n",
              " '/content/drive/My Drive/CheckPoint2/0176-model.ckpt',\n",
              " '/content/drive/My Drive/CheckPoint2/0175-model.ckpt',\n",
              " '/content/drive/My Drive/CheckPoint2/0174-model.ckpt',\n",
              " '/content/drive/My Drive/CheckPoint2/0173-model.ckpt',\n",
              " '/content/drive/My Drive/CheckPoint2/0172-model.ckpt',\n",
              " '/content/drive/My Drive/CheckPoint2/0171-model.ckpt',\n",
              " '/content/drive/My Drive/CheckPoint2/0170-model.ckpt',\n",
              " '/content/drive/My Drive/CheckPoint2/0169-model.ckpt',\n",
              " '/content/drive/My Drive/CheckPoint2/0168-model.ckpt',\n",
              " '/content/drive/My Drive/CheckPoint2/0167-model.ckpt',\n",
              " '/content/drive/My Drive/CheckPoint2/0166-model.ckpt',\n",
              " '/content/drive/My Drive/CheckPoint2/0165-model.ckpt',\n",
              " '/content/drive/My Drive/CheckPoint2/0164-model.ckpt',\n",
              " '/content/drive/My Drive/CheckPoint2/0163-model.ckpt',\n",
              " '/content/drive/My Drive/CheckPoint2/0162-model.ckpt',\n",
              " '/content/drive/My Drive/CheckPoint2/0161-model.ckpt',\n",
              " '/content/drive/My Drive/CheckPoint2/0160-model.ckpt',\n",
              " '/content/drive/My Drive/CheckPoint2/0159-model.ckpt',\n",
              " '/content/drive/My Drive/CheckPoint2/0158-model.ckpt',\n",
              " '/content/drive/My Drive/CheckPoint2/0157-model.ckpt',\n",
              " '/content/drive/My Drive/CheckPoint2/0156-model.ckpt',\n",
              " '/content/drive/My Drive/CheckPoint2/0155-model.ckpt',\n",
              " '/content/drive/My Drive/CheckPoint2/0154-model.ckpt',\n",
              " '/content/drive/My Drive/CheckPoint2/0153-model.ckpt',\n",
              " '/content/drive/My Drive/CheckPoint2/0152-model.ckpt',\n",
              " '/content/drive/My Drive/CheckPoint2/0151-model.ckpt',\n",
              " '/content/drive/My Drive/CheckPoint2/0150-model.ckpt',\n",
              " '/content/drive/My Drive/CheckPoint2/0149-model.ckpt',\n",
              " '/content/drive/My Drive/CheckPoint2/0148-model.ckpt',\n",
              " '/content/drive/My Drive/CheckPoint2/0147-model.ckpt',\n",
              " '/content/drive/My Drive/CheckPoint2/0146-model.ckpt',\n",
              " '/content/drive/My Drive/CheckPoint2/0145-model.ckpt',\n",
              " '/content/drive/My Drive/CheckPoint2/0144-model.ckpt',\n",
              " '/content/drive/My Drive/CheckPoint2/0143-model.ckpt',\n",
              " '/content/drive/My Drive/CheckPoint2/0142-model.ckpt',\n",
              " '/content/drive/My Drive/CheckPoint2/0141-model.ckpt',\n",
              " '/content/drive/My Drive/CheckPoint2/0140-model.ckpt',\n",
              " '/content/drive/My Drive/CheckPoint2/0139-model.ckpt',\n",
              " '/content/drive/My Drive/CheckPoint2/0138-model.ckpt',\n",
              " '/content/drive/My Drive/CheckPoint2/0137-model.ckpt',\n",
              " '/content/drive/My Drive/CheckPoint2/0136-model.ckpt',\n",
              " '/content/drive/My Drive/CheckPoint2/0135-model.ckpt',\n",
              " '/content/drive/My Drive/CheckPoint2/0134-model.ckpt',\n",
              " '/content/drive/My Drive/CheckPoint2/0133-model.ckpt',\n",
              " '/content/drive/My Drive/CheckPoint2/0132-model.ckpt',\n",
              " '/content/drive/My Drive/CheckPoint2/0131-model.ckpt',\n",
              " '/content/drive/My Drive/CheckPoint2/0130-model.ckpt',\n",
              " '/content/drive/My Drive/CheckPoint2/0129-model.ckpt',\n",
              " '/content/drive/My Drive/CheckPoint2/0128-model.ckpt',\n",
              " '/content/drive/My Drive/CheckPoint2/0127-model.ckpt',\n",
              " '/content/drive/My Drive/CheckPoint2/0126-model.ckpt',\n",
              " '/content/drive/My Drive/CheckPoint2/0125-model.ckpt',\n",
              " '/content/drive/My Drive/CheckPoint2/0124-model.ckpt',\n",
              " '/content/drive/My Drive/CheckPoint2/0123-model.ckpt',\n",
              " '/content/drive/My Drive/CheckPoint2/0122-model.ckpt',\n",
              " '/content/drive/My Drive/CheckPoint2/0121-model.ckpt',\n",
              " '/content/drive/My Drive/CheckPoint2/0120-model.ckpt',\n",
              " '/content/drive/My Drive/CheckPoint2/0119-model.ckpt',\n",
              " '/content/drive/My Drive/CheckPoint2/0118-model.ckpt',\n",
              " '/content/drive/My Drive/CheckPoint2/0117-model.ckpt',\n",
              " '/content/drive/My Drive/CheckPoint2/0116-model.ckpt',\n",
              " '/content/drive/My Drive/CheckPoint2/0115-model.ckpt',\n",
              " '/content/drive/My Drive/CheckPoint2/0114-model.ckpt',\n",
              " '/content/drive/My Drive/CheckPoint2/0113-model.ckpt',\n",
              " '/content/drive/My Drive/CheckPoint2/0112-model.ckpt',\n",
              " '/content/drive/My Drive/CheckPoint2/0111-model.ckpt',\n",
              " '/content/drive/My Drive/CheckPoint2/0110-model.ckpt',\n",
              " '/content/drive/My Drive/CheckPoint2/0109-model.ckpt',\n",
              " '/content/drive/My Drive/CheckPoint2/0108-model.ckpt',\n",
              " '/content/drive/My Drive/CheckPoint2/0107-model.ckpt',\n",
              " '/content/drive/My Drive/CheckPoint2/0106-model.ckpt',\n",
              " '/content/drive/My Drive/CheckPoint2/0105-model.ckpt',\n",
              " '/content/drive/My Drive/CheckPoint2/0104-model.ckpt',\n",
              " '/content/drive/My Drive/CheckPoint2/0103-model.ckpt',\n",
              " '/content/drive/My Drive/CheckPoint2/0102-model.ckpt',\n",
              " '/content/drive/My Drive/CheckPoint2/0101-model.ckpt',\n",
              " '/content/drive/My Drive/CheckPoint2/0100-model.ckpt',\n",
              " '/content/drive/My Drive/CheckPoint2/0099-model.ckpt',\n",
              " '/content/drive/My Drive/CheckPoint2/0098-model.ckpt',\n",
              " '/content/drive/My Drive/CheckPoint2/0097-model.ckpt',\n",
              " '/content/drive/My Drive/CheckPoint2/0096-model.ckpt',\n",
              " '/content/drive/My Drive/CheckPoint2/0095-model.ckpt',\n",
              " '/content/drive/My Drive/CheckPoint2/0094-model.ckpt',\n",
              " '/content/drive/My Drive/CheckPoint2/0093-model.ckpt',\n",
              " '/content/drive/My Drive/CheckPoint2/0092-model.ckpt',\n",
              " '/content/drive/My Drive/CheckPoint2/0091-model.ckpt',\n",
              " '/content/drive/My Drive/CheckPoint2/0090-model.ckpt',\n",
              " '/content/drive/My Drive/CheckPoint2/0089-model.ckpt',\n",
              " '/content/drive/My Drive/CheckPoint2/0088-model.ckpt',\n",
              " '/content/drive/My Drive/CheckPoint2/0087-model.ckpt',\n",
              " '/content/drive/My Drive/CheckPoint2/0086-model.ckpt',\n",
              " '/content/drive/My Drive/CheckPoint2/0085-model.ckpt',\n",
              " '/content/drive/My Drive/CheckPoint2/0084-model.ckpt',\n",
              " '/content/drive/My Drive/CheckPoint2/0083-model.ckpt',\n",
              " '/content/drive/My Drive/CheckPoint2/0082-model.ckpt',\n",
              " '/content/drive/My Drive/CheckPoint2/0081-model.ckpt',\n",
              " '/content/drive/My Drive/CheckPoint2/0080-model.ckpt',\n",
              " '/content/drive/My Drive/CheckPoint2/0079-model.ckpt',\n",
              " '/content/drive/My Drive/CheckPoint2/0078-model.ckpt',\n",
              " '/content/drive/My Drive/CheckPoint2/0077-model.ckpt',\n",
              " '/content/drive/My Drive/CheckPoint2/0076-model.ckpt',\n",
              " '/content/drive/My Drive/CheckPoint2/0075-model.ckpt',\n",
              " '/content/drive/My Drive/CheckPoint2/0074-model.ckpt',\n",
              " '/content/drive/My Drive/CheckPoint2/0073-model.ckpt',\n",
              " '/content/drive/My Drive/CheckPoint2/0072-model.ckpt',\n",
              " '/content/drive/My Drive/CheckPoint2/0071-model.ckpt',\n",
              " '/content/drive/My Drive/CheckPoint2/0070-model.ckpt',\n",
              " '/content/drive/My Drive/CheckPoint2/0069-model.ckpt',\n",
              " '/content/drive/My Drive/CheckPoint2/0068-model.ckpt',\n",
              " '/content/drive/My Drive/CheckPoint2/0067-model.ckpt',\n",
              " '/content/drive/My Drive/CheckPoint2/0066-model.ckpt',\n",
              " '/content/drive/My Drive/CheckPoint2/0065-model.ckpt',\n",
              " '/content/drive/My Drive/CheckPoint2/0064-model.ckpt',\n",
              " '/content/drive/My Drive/CheckPoint2/0063-model.ckpt',\n",
              " '/content/drive/My Drive/CheckPoint2/0062-model.ckpt',\n",
              " '/content/drive/My Drive/CheckPoint2/0061-model.ckpt',\n",
              " '/content/drive/My Drive/CheckPoint2/0060-model.ckpt',\n",
              " '/content/drive/My Drive/CheckPoint2/0059-model.ckpt',\n",
              " '/content/drive/My Drive/CheckPoint2/0058-model.ckpt',\n",
              " '/content/drive/My Drive/CheckPoint2/0057-model.ckpt',\n",
              " '/content/drive/My Drive/CheckPoint2/0056-model.ckpt',\n",
              " '/content/drive/My Drive/CheckPoint2/0055-model.ckpt',\n",
              " '/content/drive/My Drive/CheckPoint2/0054-model.ckpt',\n",
              " '/content/drive/My Drive/CheckPoint2/0053-model.ckpt',\n",
              " '/content/drive/My Drive/CheckPoint2/0052-model.ckpt',\n",
              " '/content/drive/My Drive/CheckPoint2/0051-model.ckpt',\n",
              " '/content/drive/My Drive/CheckPoint2/0050-model.ckpt',\n",
              " '/content/drive/My Drive/CheckPoint2/0049-model.ckpt',\n",
              " '/content/drive/My Drive/CheckPoint2/0048-model.ckpt',\n",
              " '/content/drive/My Drive/CheckPoint2/0047-model.ckpt',\n",
              " '/content/drive/My Drive/CheckPoint2/0046-model.ckpt',\n",
              " '/content/drive/My Drive/CheckPoint2/0045-model.ckpt',\n",
              " '/content/drive/My Drive/CheckPoint2/0044-model.ckpt',\n",
              " '/content/drive/My Drive/CheckPoint2/0043-model.ckpt',\n",
              " '/content/drive/My Drive/CheckPoint2/0042-model.ckpt',\n",
              " '/content/drive/My Drive/CheckPoint2/0041-model.ckpt',\n",
              " '/content/drive/My Drive/CheckPoint2/0040-model.ckpt',\n",
              " '/content/drive/My Drive/CheckPoint2/0039-model.ckpt',\n",
              " '/content/drive/My Drive/CheckPoint2/0038-model.ckpt',\n",
              " '/content/drive/My Drive/CheckPoint2/0037-model.ckpt',\n",
              " '/content/drive/My Drive/CheckPoint2/0036-model.ckpt',\n",
              " '/content/drive/My Drive/CheckPoint2/0035-model.ckpt',\n",
              " '/content/drive/My Drive/CheckPoint2/0034-model.ckpt',\n",
              " '/content/drive/My Drive/CheckPoint2/0033-model.ckpt',\n",
              " '/content/drive/My Drive/CheckPoint2/0032-model.ckpt',\n",
              " '/content/drive/My Drive/CheckPoint2/0031-model.ckpt',\n",
              " '/content/drive/My Drive/CheckPoint2/0030-model.ckpt',\n",
              " '/content/drive/My Drive/CheckPoint2/0029-model.ckpt',\n",
              " '/content/drive/My Drive/CheckPoint2/0028-model.ckpt',\n",
              " '/content/drive/My Drive/CheckPoint2/0027-model.ckpt',\n",
              " '/content/drive/My Drive/CheckPoint2/0026-model.ckpt',\n",
              " '/content/drive/My Drive/CheckPoint2/0025-model.ckpt',\n",
              " '/content/drive/My Drive/CheckPoint2/0024-model.ckpt',\n",
              " '/content/drive/My Drive/CheckPoint2/0023-model.ckpt',\n",
              " '/content/drive/My Drive/CheckPoint2/0022-model.ckpt',\n",
              " '/content/drive/My Drive/CheckPoint2/0021-model.ckpt',\n",
              " '/content/drive/My Drive/CheckPoint2/0020-model.ckpt',\n",
              " '/content/drive/My Drive/CheckPoint2/0019-model.ckpt',\n",
              " '/content/drive/My Drive/CheckPoint2/0018-model.ckpt',\n",
              " '/content/drive/My Drive/CheckPoint2/0017-model.ckpt',\n",
              " '/content/drive/My Drive/CheckPoint2/0016-model.ckpt',\n",
              " '/content/drive/My Drive/CheckPoint2/0015-model.ckpt',\n",
              " '/content/drive/My Drive/CheckPoint2/0014-model.ckpt',\n",
              " '/content/drive/My Drive/CheckPoint2/0013-model.ckpt',\n",
              " '/content/drive/My Drive/CheckPoint2/0012-model.ckpt',\n",
              " '/content/drive/My Drive/CheckPoint2/0011-model.ckpt',\n",
              " '/content/drive/My Drive/CheckPoint2/0010-model.ckpt',\n",
              " '/content/drive/My Drive/CheckPoint2/0009-model.ckpt',\n",
              " '/content/drive/My Drive/CheckPoint2/0008-model.ckpt',\n",
              " '/content/drive/My Drive/CheckPoint2/0007-model.ckpt',\n",
              " '/content/drive/My Drive/CheckPoint2/0006-model.ckpt',\n",
              " '/content/drive/My Drive/CheckPoint2/0005-model.ckpt',\n",
              " '/content/drive/My Drive/CheckPoint2/0004-model.ckpt',\n",
              " '/content/drive/My Drive/CheckPoint2/0003-model.ckpt',\n",
              " '/content/drive/My Drive/CheckPoint2/0002-model.ckpt',\n",
              " '/content/drive/My Drive/CheckPoint2/0001-model.ckpt',\n",
              " '/content/drive/My Drive/CheckPoint2/0000-model.ckpt']"
            ]
          },
          "metadata": {
            "tags": []
          },
          "execution_count": 34
        }
      ]
    },
    {
      "cell_type": "code",
      "metadata": {
        "id": "FuviYBspTG35",
        "colab_type": "code",
        "colab": {}
      },
      "source": [
        "if dirs == []:\n",
        "    train_epoch = None\n",
        "else:\n",
        "    train_epoch = int(dirs[0][-15:-11])"
      ],
      "execution_count": 0,
      "outputs": []
    },
    {
      "cell_type": "code",
      "metadata": {
        "colab_type": "code",
        "id": "njN6mKd03mc6",
        "colab": {}
      },
      "source": [
        "device = torch.device(\"cuda:0\" if torch.cuda.is_available() else \"cpu\")"
      ],
      "execution_count": 0,
      "outputs": []
    },
    {
      "cell_type": "code",
      "metadata": {
        "colab_type": "code",
        "id": "emylNiSl3iiy",
        "colab": {}
      },
      "source": [
        "net = UNet(12)\n",
        "net = net.to(device)\n",
        "# optimizer = optim.Adam(net.parameters(), lr = 8e-5)\n",
        "if train_epoch != None:\n",
        "    checkpoint = torch.load(checkpoint_dir+'/%04d-model.ckpt'%train_epoch)\n",
        "    net.load_state_dict(checkpoint['model_state_dict'])\n",
        "    # optimizer.load_state_dict(checkpoint['optimizer_state_dict'])\n",
        "    # train_epoch = checkpoint['epoch']\n",
        "    # loss = checkpoint['loss']"
      ],
      "execution_count": 0,
      "outputs": []
    },
    {
      "cell_type": "code",
      "metadata": {
        "id": "Al0qTdx00Eak",
        "colab_type": "code",
        "colab": {}
      },
      "source": [
        "def abs_L1_loss(output, target):\n",
        "    G_loss = torch.mean(torch.abs(output - target))\n",
        "    return G_loss"
      ],
      "execution_count": 0,
      "outputs": []
    },
    {
      "cell_type": "code",
      "metadata": {
        "id": "Y_DZqGMu3AjR",
        "colab_type": "code",
        "colab": {}
      },
      "source": [
        "import cv2\n",
        "from PIL import Image"
      ],
      "execution_count": 0,
      "outputs": []
    },
    {
      "cell_type": "code",
      "metadata": {
        "id": "Fb63-9sf09HE",
        "colab_type": "code",
        "outputId": "697c1884-a840-4310-b740-157a34d442d4",
        "colab": {
          "base_uri": "https://localhost:8080/",
          "height": 1000
        }
      },
      "source": [
        "for test_id in test_ids:\n",
        "    in_files = glob.glob(input_dir + \"%05d_00*.ARW\" %test_id)\n",
        "    for k in range(len(in_files)):\n",
        "        in_path = in_files[k]\n",
        "        in_fn = os.path.basename(in_path)\n",
        "        gt_files = glob.glob(gt_dir + \"%05d_00*.ARW\"%test_id)\n",
        "        gt_path = gt_files[0]\n",
        "        gt_fn = os.path.basename(gt_path)\n",
        "        in_exposure = float(in_fn[9:-5])\n",
        "        gt_exposure = float(gt_fn[9:-5])\n",
        "        ratio = min(gt_exposure/in_exposure, 300)\n",
        "        \n",
        "        raw = rawpy.imread(in_path)\n",
        "        input_full = np.expand_dims(pack_raw(raw), axis = 0)*ratio\n",
        "        input_full = np.minimum(input_full, 1.0)\n",
        "\n",
        "        im = raw.postprocess(use_camera_wb = True, half_size = False, no_auto_bright = True, output_bps = 16)\n",
        "        scale_full = np.expand_dims(np.float32(im/65535.0), axis = 0)\n",
        "\n",
        "        # gt_im = cv2.imread(gt_path)\n",
        "        gt_raw = rawpy.imread(gt_path)\n",
        "        gt_im = gt_raw.postprocess(use_camera_wb=True, half_size=False, no_auto_bright=True, output_bps=16)\n",
        "        gt_full = np.expand_dims(np.float32(gt_im/65535.0), axis=0)  \n",
        "        gt_full = np.transpose(gt_full, (0, 3, 1, 2))\n",
        "\n",
        "        input_full =torch.tensor(input_full, device=device).float()\n",
        "        gt_full = torch.tensor(gt_full, device = device).float()\n",
        "        out = net(input_full)\n",
        "\n",
        "        out = out.detach().cpu().numpy()\n",
        "        gt_full = gt_full.cpu().numpy()\n",
        "\n",
        "        out = np.minimum(np.maximum(out, 0), 1)\n",
        "\n",
        "        out = out[0,:,:,:]\n",
        "        out = np.transpose(out, (1, 2, 0))\n",
        "        gt_full = gt_full[0,:,:,:]\n",
        "        gt_full = np.transpose(gt_full, (1, 2, 0))\n",
        "        scale_full = scale_full[0,:,:,:]\n",
        "        print(\"Out = \"+str(out.shape))\n",
        "        # print(\"gt = \"+str(gt_full.shape))\n",
        "        # print(\"scale = \"+str(scale_full.shape))\n",
        "        scale_full = scale_full*np.mean(gt_full)/np.mean(scale_full)\n",
        "        # print(out[10]*255)\n",
        "        Image.fromarray((out*255).astype(np.uint8)).save(\n",
        "                result_dir + 'final/%05d_00_%d_out.jpg' % (test_id, ratio))\n",
        "        Image.fromarray((scale_full*255).astype(np.uint8)).save(\n",
        "                result_dir + 'final/%05d_00_%d_scale.jpg' % (test_id, ratio))\n",
        "        Image.fromarray((gt_full*255).astype(np.uint8)).save(\n",
        "                result_dir + 'final/%05d_00_%d_gt.jpg' % (test_id, ratio))"
      ],
      "execution_count": 40,
      "outputs": [
        {
          "output_type": "stream",
          "text": [
            "Out = (2848, 4256, 3)\n",
            "Out = (2848, 4256, 3)\n",
            "Out = (2848, 4256, 3)\n",
            "Out = (2848, 4256, 3)\n",
            "Out = (2848, 4256, 3)\n",
            "Out = (2848, 4256, 3)\n",
            "Out = (2848, 4256, 3)\n",
            "Out = (2848, 4256, 3)\n",
            "Out = (2848, 4256, 3)\n",
            "Out = (2848, 4256, 3)\n",
            "Out = (2848, 4256, 3)\n",
            "Out = (2848, 4256, 3)\n",
            "Out = (2848, 4256, 3)\n",
            "Out = (2848, 4256, 3)\n",
            "Out = (2848, 4256, 3)\n",
            "Out = (2848, 4256, 3)\n",
            "Out = (2848, 4256, 3)\n",
            "Out = (2848, 4256, 3)\n",
            "Out = (2848, 4256, 3)\n",
            "Out = (2848, 4256, 3)\n",
            "Out = (2848, 4256, 3)\n",
            "Out = (2848, 4256, 3)\n",
            "Out = (2848, 4256, 3)\n",
            "Out = (2848, 4256, 3)\n",
            "Out = (2848, 4256, 3)\n",
            "Out = (2848, 4256, 3)\n",
            "Out = (2848, 4256, 3)\n",
            "Out = (2848, 4256, 3)\n",
            "Out = (2848, 4256, 3)\n",
            "Out = (2848, 4256, 3)\n",
            "Out = (2848, 4256, 3)\n",
            "Out = (2848, 4256, 3)\n",
            "Out = (2848, 4256, 3)\n",
            "Out = (2848, 4256, 3)\n",
            "Out = (2848, 4256, 3)\n",
            "Out = (2848, 4256, 3)\n",
            "Out = (2848, 4256, 3)\n",
            "Out = (2848, 4256, 3)\n",
            "Out = (2848, 4256, 3)\n",
            "Out = (2848, 4256, 3)\n",
            "Out = (2848, 4256, 3)\n",
            "Out = (2848, 4256, 3)\n",
            "Out = (2848, 4256, 3)\n",
            "Out = (2848, 4256, 3)\n",
            "Out = (2848, 4256, 3)\n",
            "Out = (2848, 4256, 3)\n",
            "Out = (2848, 4256, 3)\n",
            "Out = (2848, 4256, 3)\n",
            "Out = (2848, 4256, 3)\n",
            "Out = (2848, 4256, 3)\n",
            "Out = (2848, 4256, 3)\n",
            "Out = (2848, 4256, 3)\n",
            "Out = (2848, 4256, 3)\n",
            "Out = (2848, 4256, 3)\n",
            "Out = (2848, 4256, 3)\n",
            "Out = (2848, 4256, 3)\n",
            "Out = (2848, 4256, 3)\n",
            "Out = (2848, 4256, 3)\n",
            "Out = (2848, 4256, 3)\n",
            "Out = (2848, 4256, 3)\n",
            "Out = (2848, 4256, 3)\n",
            "Out = (2848, 4256, 3)\n",
            "Out = (2848, 4256, 3)\n",
            "Out = (2848, 4256, 3)\n",
            "Out = (2848, 4256, 3)\n",
            "Out = (2848, 4256, 3)\n",
            "Out = (2848, 4256, 3)\n",
            "Out = (2848, 4256, 3)\n",
            "Out = (2848, 4256, 3)\n",
            "Out = (2848, 4256, 3)\n",
            "Out = (2848, 4256, 3)\n",
            "Out = (2848, 4256, 3)\n",
            "Out = (2848, 4256, 3)\n",
            "Out = (2848, 4256, 3)\n",
            "Out = (2848, 4256, 3)\n",
            "Out = (2848, 4256, 3)\n",
            "Out = (2848, 4256, 3)\n",
            "Out = (2848, 4256, 3)\n",
            "Out = (2848, 4256, 3)\n",
            "Out = (2848, 4256, 3)\n",
            "Out = (2848, 4256, 3)\n",
            "Out = (2848, 4256, 3)\n",
            "Out = (2848, 4256, 3)\n",
            "Out = (2848, 4256, 3)\n",
            "Out = (2848, 4256, 3)\n",
            "Out = (2848, 4256, 3)\n",
            "Out = (2848, 4256, 3)\n",
            "Out = (2848, 4256, 3)\n",
            "Out = (2848, 4256, 3)\n",
            "Out = (2848, 4256, 3)\n",
            "Out = (2848, 4256, 3)\n",
            "Out = (2848, 4256, 3)\n",
            "Out = (2848, 4256, 3)\n"
          ],
          "name": "stdout"
        }
      ]
    }
  ]
}